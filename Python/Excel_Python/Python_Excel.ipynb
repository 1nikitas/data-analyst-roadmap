{
 "cells": [
  {
   "cell_type": "code",
   "execution_count": 45,
   "metadata": {},
   "outputs": [],
   "source": [
    "#https://pandas.pydata.org/pandas-docs/stable/reference/api/pandas.DataFrame.dropna.html\n",
    "#https://pandas.pydata.org/pandas-docs/stable/reference/frame.html\n",
    "\n",
    "import pandas as pd\n",
    "import numpy as np\n",
    "from openpyxl.workbook import workbook"
   ]
  },
  {
   "cell_type": "code",
   "execution_count": 9,
   "metadata": {},
   "outputs": [],
   "source": [
    "df_excel = pd.read_excel(r'C:\\Users\\vanminh1\\OneDrive - Intel Corporation\\Desktop\\Cody\\Minhne\\Code Python\\Data_Excel\\Exercise Files\\regions.xlsx')\n",
    "df_csv = pd.read_csv(r'C:\\Users\\vanminh1\\OneDrive - Intel Corporation\\Desktop\\Cody\\Minhne\\Code Python\\Data_Excel\\Exercise Files\\Names.csv', header=None)\n",
    "df_txt = pd.read_csv(r'C:\\Users\\vanminh1\\OneDrive - Intel Corporation\\Desktop\\Cody\\Minhne\\Code Python\\Data_Excel\\Exercise Files\\data.txt', delimiter='\\t')\n",
    "\n",
    "df_csv.columns = ['First', 'Last', 'Address', 'City', 'State', 'Area Code']\n",
    "df_csv.to_excel(r'C:\\Users\\vanminh1\\OneDrive - Intel Corporation\\Desktop\\Cody\\Minhne\\Code Python\\Data_Excel\\Exercise Files\\\\File_Create\\modified.xlsx')"
   ]
  },
  {
   "cell_type": "code",
   "execution_count": 5,
   "metadata": {},
   "outputs": [
    {
     "name": "stdout",
     "output_type": "stream",
     "text": [
      "0         Doe\n",
      "1    McGinnis\n",
      "2      Repici\n",
      "3       Tyler\n",
      "4    Blankman\n",
      "5         Jet\n",
      "Name: Last, dtype: object\n"
     ]
    }
   ],
   "source": [
    "df = pd.read_csv(r'C:\\Users\\vanminh1\\OneDrive - Intel Corporation\\Desktop\\Cody\\Minhne\\Code Python\\Data_Excel\\Exercise Files\\Names.csv', header=None)\n",
    "df.columns = ['First', 'Last', 'Address', 'City', 'State', 'Area Code']\n",
    "print(df['Last'])"
   ]
  },
  {
   "cell_type": "code",
   "execution_count": 6,
   "metadata": {},
   "outputs": [
    {
     "name": "stdout",
     "output_type": "stream",
     "text": [
      "0             John\n",
      "1             Jack\n",
      "2    John \"Da Man\"\n",
      "Name: First, dtype: object\n"
     ]
    }
   ],
   "source": [
    "print(df['First'][0:3])"
   ]
  },
  {
   "cell_type": "code",
   "execution_count": 7,
   "metadata": {},
   "outputs": [
    {
     "name": "stdout",
     "output_type": "stream",
     "text": [
      "First                Jack\n",
      "Last             McGinnis\n",
      "Address      220 hobo Av.\n",
      "City                Phila\n",
      "State                  PA\n",
      "Area Code            9119\n",
      "Name: 1, dtype: object\n"
     ]
    }
   ],
   "source": [
    "print(df.iloc[1])"
   ]
  },
  {
   "cell_type": "code",
   "execution_count": 8,
   "metadata": {},
   "outputs": [
    {
     "name": "stdout",
     "output_type": "stream",
     "text": [
      "Repici\n"
     ]
    }
   ],
   "source": [
    "print(df.iloc[2,1])"
   ]
  },
  {
   "cell_type": "code",
   "execution_count": 14,
   "metadata": {},
   "outputs": [],
   "source": [
    "wanted_values = df[['First', 'Last', 'State']]\n",
    "stored = wanted_values.to_excel(r'C:\\Users\\vanminh1\\OneDrive - Intel Corporation\\Desktop\\Cody\\Minhne\\Code Python\\Data_Excel\\Exercise Files\\File_Create\\State_Location.xlsx', index=None)"
   ]
  },
  {
   "cell_type": "code",
   "execution_count": 24,
   "metadata": {},
   "outputs": [
    {
     "name": "stdout",
     "output_type": "stream",
     "text": [
      "  First Last            Address       City State  Area Code\n",
      "0  John  Doe  120 jefferson st.  Riverside    NJ       8074\n"
     ]
    }
   ],
   "source": [
    "df = pd.read_csv(r'C:\\Users\\vanminh1\\OneDrive - Intel Corporation\\Desktop\\Cody\\Minhne\\Code Python\\Data_Excel\\Exercise Files\\Names.csv', header=None)\n",
    "df.columns = ['First', 'Last', 'Address', 'City', 'State', 'Area Code']\n",
    "print(df.loc[(df['City'] ==  'Riverside') & (df['First'] ==  'John')])"
   ]
  },
  {
   "cell_type": "code",
   "execution_count": 36,
   "metadata": {},
   "outputs": [
    {
     "name": "stdout",
     "output_type": "stream",
     "text": [
      "                 First      Last                           Address  \\\n",
      "0                 John       Doe                 120 jefferson st.   \n",
      "1                 Jack  McGinnis                      220 hobo Av.   \n",
      "2        John \"Da Man\"    Repici                 120 Jefferson St.   \n",
      "3              Stephen     Tyler  7452 Terrace \"At the Plaza\" road   \n",
      "4                  NaN  Blankman                               NaN   \n",
      "5  Joan \"Danger\", Anne       Jet               9th, at Terrace plc   \n",
      "\n",
      "          City State  Area Code  \n",
      "0    Riverside    NJ       8074  \n",
      "1        Phila    PA       9119  \n",
      "2    Riverside    NJ       8075  \n",
      "3     SomeTown    SD      91234  \n",
      "4     SomeTown    SD        298  \n",
      "5  Desert City    CO        123  \n"
     ]
    }
   ],
   "source": [
    "df = pd.read_csv(r'C:\\Users\\vanminh1\\OneDrive - Intel Corporation\\Desktop\\Cody\\Minhne\\Code Python\\Data_Excel\\Exercise Files\\Names.csv', header=None)\n",
    "df.columns = ['First', 'Last', 'Address', 'City', 'State', 'Area Code']\n",
    "print(df)"
   ]
  },
  {
   "cell_type": "code",
   "execution_count": 38,
   "metadata": {},
   "outputs": [],
   "source": [
    "df.drop(columns = 'Address', inplace = True)"
   ]
  },
  {
   "cell_type": "code",
   "execution_count": 39,
   "metadata": {},
   "outputs": [],
   "source": [
    "df = df.set_index('Area Code')"
   ]
  },
  {
   "cell_type": "code",
   "execution_count": 40,
   "metadata": {},
   "outputs": [
    {
     "name": "stdout",
     "output_type": "stream",
     "text": [
      "First         John\n",
      "Last           Doe\n",
      "City     Riverside\n",
      "State           NJ\n",
      "Name: 8074, dtype: object\n"
     ]
    }
   ],
   "source": [
    "print(df.loc[8074])"
   ]
  },
  {
   "cell_type": "code",
   "execution_count": 41,
   "metadata": {},
   "outputs": [
    {
     "name": "stdout",
     "output_type": "stream",
     "text": [
      "First         John\n",
      "Last           Doe\n",
      "City     Riverside\n",
      "State           NJ\n",
      "Name: 8074, dtype: object\n"
     ]
    }
   ],
   "source": [
    "print(df.iloc[0])"
   ]
  },
  {
   "cell_type": "code",
   "execution_count": 42,
   "metadata": {},
   "outputs": [
    {
     "name": "stdout",
     "output_type": "stream",
     "text": [
      "Area Code\n",
      "8074                    John\n",
      "9119                    Jack\n",
      "8075           John \"Da Man\"\n",
      "91234                Stephen\n",
      "298                      NaN\n",
      "123      Joan \"Danger\", Anne\n",
      "Name: First, dtype: object\n"
     ]
    }
   ],
   "source": [
    "print(df.loc[8074:, 'First'])"
   ]
  },
  {
   "cell_type": "code",
   "execution_count": 43,
   "metadata": {},
   "outputs": [
    {
     "name": "stdout",
     "output_type": "stream",
     "text": [
      "                 0          1     2\n",
      "Area Code                          \n",
      "8074          John       None  None\n",
      "9119          Jack       None  None\n",
      "8075          John        \"Da  Man\"\n",
      "91234      Stephen       None  None\n",
      "298            NaN        NaN   NaN\n",
      "123           Joan  \"Danger\",  Anne\n",
      "                         First      Last         City State\n",
      "Area Code                                                  \n",
      "8074                      John       Doe    Riverside    NJ\n",
      "9119                      Jack  McGinnis        Phila    PA\n",
      "8075             John \"Da Man\"    Repici    Riverside    NJ\n",
      "91234                  Stephen     Tyler     SomeTown    SD\n",
      "298                        NaN  Blankman     SomeTown    SD\n",
      "123        Joan \"Danger\", Anne       Jet  Desert City    CO\n"
     ]
    }
   ],
   "source": [
    "print(df.First.str.split(expand = True))\n",
    "print(df)"
   ]
  },
  {
   "cell_type": "code",
   "execution_count": 50,
   "metadata": {},
   "outputs": [],
   "source": [
    "df.First = df.First.str.split(expand = True)\n",
    "df = df.replace(np.nan, 'N/A', regex = True)\n",
    "to_excel = df.to_excel(r'C:\\Users\\vanminh1\\OneDrive - Intel Corporation\\Desktop\\Cody\\Minhne\\Code Python\\Data_Excel\\Exercise Files\\File_Create\\modified2.xlsx')"
   ]
  },
  {
   "cell_type": "markdown",
   "metadata": {},
   "source": [
    "<b>openpyxl</b>"
   ]
  },
  {
   "cell_type": "code",
   "execution_count": 2,
   "metadata": {},
   "outputs": [],
   "source": [
    "from openpyxl.workbook import Workbook\n",
    "from openpyxl import load_workbook"
   ]
  },
  {
   "cell_type": "code",
   "execution_count": 10,
   "metadata": {},
   "outputs": [
    {
     "name": "stdout",
     "output_type": "stream",
     "text": [
      "['Another', 'MySheet', 'NewSheet']\n"
     ]
    }
   ],
   "source": [
    "wb = Workbook()\n",
    "ws = wb.active\n",
    "\n",
    "ws1 = wb.create_sheet('NewSheet')\n",
    "ws2 = wb.create_sheet('Another', 0)\n",
    "\n",
    "ws.title = 'MySheet'\n",
    "\n",
    "print(wb.sheetnames)\n",
    "\n",
    "wb2 = load_workbook(r'C:\\Users\\vanminh1\\OneDrive - Intel Corporation\\Desktop\\Cody\\Minhne\\Code Python\\Data_Excel\\Exercise Files\\regions.xlsx')\n",
    "\n",
    "new_sheet = wb2.create_sheet('NewSheet')\n",
    "active_sheet = wb2.active\n",
    "\n",
    "cell = active_sheet['A1']\n",
    "active_sheet['A1'] = 0\n",
    "\n",
    "wb2.save(r'C:\\Users\\vanminh1\\OneDrive - Intel Corporation\\Desktop\\Cody\\Minhne\\Code Python\\Data_Excel\\Exercise Files\\File_Create\\modified3.xlsx')"
   ]
  },
  {
   "cell_type": "code",
   "execution_count": 14,
   "metadata": {},
   "outputs": [
    {
     "name": "stdout",
     "output_type": "stream",
     "text": [
      "((<Cell 'Sheet1'.A1>, <Cell 'Sheet1'.B1>, <Cell 'Sheet1'.C1>),)\n",
      "(<Cell 'Sheet1'.C1>, <Cell 'Sheet1'.C2>, <Cell 'Sheet1'.C3>, <Cell 'Sheet1'.C4>, <Cell 'Sheet1'.C5>, <Cell 'Sheet1'.C6>, <Cell 'Sheet1'.C7>)\n",
      "((<Cell 'Sheet1'.A1>, <Cell 'Sheet1'.A2>, <Cell 'Sheet1'.A3>, <Cell 'Sheet1'.A4>, <Cell 'Sheet1'.A5>, <Cell 'Sheet1'.A6>, <Cell 'Sheet1'.A7>), (<Cell 'Sheet1'.B1>, <Cell 'Sheet1'.B2>, <Cell 'Sheet1'.B3>, <Cell 'Sheet1'.B4>, <Cell 'Sheet1'.B5>, <Cell 'Sheet1'.B6>, <Cell 'Sheet1'.B7>), (<Cell 'Sheet1'.C1>, <Cell 'Sheet1'.C2>, <Cell 'Sheet1'.C3>, <Cell 'Sheet1'.C4>, <Cell 'Sheet1'.C5>, <Cell 'Sheet1'.C6>, <Cell 'Sheet1'.C7>))\n"
     ]
    }
   ],
   "source": [
    "wb = load_workbook(r'C:\\Users\\vanminh1\\OneDrive - Intel Corporation\\Desktop\\Cody\\Minhne\\Code Python\\Data_Excel\\Exercise Files\\regions.xlsx')\n",
    "ws = wb.active\n",
    "\n",
    "cell_range = ws['A1':'C1']\n",
    "col_c = ws['C']\n",
    "col_range = ws['A':'C']\n",
    "print(cell_range)\n",
    "print(col_c)\n",
    "print(col_range)"
   ]
  },
  {
   "cell_type": "code",
   "execution_count": 17,
   "metadata": {},
   "outputs": [
    {
     "name": "stdout",
     "output_type": "stream",
     "text": [
      "Region\n",
      "Units\n",
      "Sales\n",
      "South\n",
      "54\n",
      "332\n"
     ]
    }
   ],
   "source": [
    "row_range = ws[1:5]\n",
    "for row in ws.iter_rows(min_row = 1, max_col = 3, max_row = 2, values_only = True):\n",
    "    for cell in row:\n",
    "        print(cell)"
   ]
  },
  {
   "cell_type": "code",
   "execution_count": 31,
   "metadata": {},
   "outputs": [],
   "source": [
    "from openpyxl.styles import Font, colors, Color, Alignment, PatternFill, GradientFill, Border, Side\n",
    "from openpyxl.styles import NamedStyle\n",
    "\n",
    "wb = Workbook()\n",
    "ws = wb.active\n",
    "\n",
    "for i in range(1,20):\n",
    "    ws.append(range(300))\n",
    "\n",
    "ws.merge_cells('A1:B5')\n",
    "ws.unmerge_cells('A1:B5')\n",
    "ws.merge_cells(start_row = 2, start_column = 2, end_row = 5, end_column = 5)\n",
    "\n",
    "cell = ws['B2']\n",
    "cell.font = Font(color = \"FF0000\", size = 20, italic = True)\n",
    "cell.value = 'Merged Cell'\n",
    "cell.alignment = Alignment(horizontal = 'right', vertical = 'bottom')\n",
    "cell.fill = GradientFill(stop = ('000000', 'FFFFFF'))\n",
    "wb.save(r'C:\\Users\\vanminh1\\OneDrive - Intel Corporation\\Desktop\\Cody\\Minhne\\Code Python\\Data_Excel\\Exercise Files\\File_Create\\text.xlsx')\n",
    "\n",
    "highlight = NamedStyle(name = 'highlight')\n",
    "highlight.font = Font(bold = True)\n",
    "bd = Side(style = 'thick', color = \"000000\")\n",
    "highlight.border = Border(left = bd, top = bd, right = bd, bottom = bd)\n",
    "highlight.fill = PatternFill('solid', fgColor='FFFF00')\n",
    "\n",
    "count = 0\n",
    "for col in ws.iter_cols(min_col = 8, min_row = 1, max_col = 30, max_row = 30):\n",
    "    col[count].style = highlight\n",
    "    count = count + 1\n",
    "wb.save(r'C:\\Users\\vanminh1\\OneDrive - Intel Corporation\\Desktop\\Cody\\Minhne\\Code Python\\Data_Excel\\Exercise Files\\File_Create\\highlight.xlsx')"
   ]
  },
  {
   "cell_type": "code",
   "execution_count": 38,
   "metadata": {},
   "outputs": [],
   "source": [
    "import openpyxl\n",
    "from openpyxl.chart import PieChart, Reference, Series, PieChart3D\n",
    "\n",
    "wb = openpyxl.Workbook()\n",
    "ws = wb.active\n",
    "\n",
    "data = [\n",
    "    ['Flavor', 'Sold'],\n",
    "    ['Vanilla', 1500],\n",
    "    ['Chocolate', 1700],\n",
    "    ['Strawberry', 600],\n",
    "    ['Pumpkin Spice', 950]\n",
    "]\n",
    "\n",
    "for rows in data:\n",
    "    ws.append(rows)\n",
    "\n",
    "chart = PieChart()\n",
    "labels = Reference(ws, min_col = 1, min_row = 2, max_row = 5)\n",
    "data = Reference(ws, min_col = 2, min_row = 1, max_row = 5)\n",
    "chart.add_data(data, titles_from_data = True)\n",
    "chart.set_categories(labels)\n",
    "chart.title = 'Ice Cream by Flavor'\n",
    "\n",
    "ws.add_chart(chart, 'C1')\n",
    "wb.save(r'C:\\Users\\vanminh1\\OneDrive - Intel Corporation\\Desktop\\Cody\\Minhne\\Code Python\\Data_Excel\\Exercise Files\\File_Create\\Pie.xlsx')"
   ]
  },
  {
   "cell_type": "code",
   "execution_count": 44,
   "metadata": {},
   "outputs": [],
   "source": [
    "from openpyxl.worksheet.table import Table, TableStyleInfo\n",
    "from openpyxl.drawing.image import Image\n",
    "from openpyxl import load_workbook\n",
    "\n",
    "wb = load_workbook(r'C:\\Users\\vanminh1\\OneDrive - Intel Corporation\\Desktop\\Cody\\Minhne\\Code Python\\Data_Excel\\Exercise Files\\File_Create\\Pie.xlsx')\n",
    "ws = wb.active\n",
    "\n",
    "tab = Table(displayName = 'Table1', ref = 'A1:B5')\n",
    "style = TableStyleInfo(name = 'TableStyleMedium9', showFirstColumn = False, showLastColumn = False,\n",
    "                                                      showRowStripes = True, showColumnStripes = True)\n",
    "tab.tableStyleInfo = style\n",
    "ws.add_table(tab)\n",
    "wb.save(r'C:\\Users\\vanminh1\\OneDrive - Intel Corporation\\Desktop\\Cody\\Minhne\\Code Python\\Data_Excel\\Exercise Files\\File_Create\\table.xlsx')\n",
    "\n",
    "img = Image(r'C:\\Users\\vanminh1\\OneDrive - Intel Corporation\\Desktop\\Cody\\Minhne\\Code Python\\Data_Excel\\Exercise Files\\madecraft.jpg')\n",
    "img.height = img.height * .25\n",
    "img.width = img.width * .25\n",
    "ws.add_image(img, 'C1')\n",
    "wb.save(r'C:\\Users\\vanminh1\\OneDrive - Intel Corporation\\Desktop\\Cody\\Minhne\\Code Python\\Data_Excel\\Exercise Files\\File_Create\\image.xlsx')"
   ]
  },
  {
   "cell_type": "markdown",
   "metadata": {},
   "source": [
    "<b>Working with Reports</b>"
   ]
  },
  {
   "cell_type": "code",
   "execution_count": 55,
   "metadata": {},
   "outputs": [
    {
     "name": "stdout",
     "output_type": "stream",
     "text": [
      "    Shift Region Sales Rep Product  Cost per  Units Sold\n",
      "50      1  South  Shirlene  Binder        30         176\n",
      "50      2  North   Jenifer  Pencil         5          62\n",
      "50      3   West    Conrad  Folder        17          51\n",
      "Shift\n",
      "1    114.767677\n",
      "2    112.460000\n",
      "3    109.343434\n",
      "Name: Units Sold, dtype: float64\n"
     ]
    }
   ],
   "source": [
    "#Manage multiple sheets\n",
    "import pandas as pd\n",
    "from openpyxl import load_workbook\n",
    "from openpyxl.styles import Font\n",
    "\n",
    "df_1 = pd.read_excel(r'C:\\Users\\vanminh1\\OneDrive - Intel Corporation\\Desktop\\Cody\\Minhne\\Code Python\\Data_Excel\\Exercise Files\\shifts.xlsx', sheet_name='Sheet')\n",
    "df_2 = pd.read_excel(r'C:\\Users\\vanminh1\\OneDrive - Intel Corporation\\Desktop\\Cody\\Minhne\\Code Python\\Data_Excel\\Exercise Files\\shifts.xlsx', sheet_name='Sheet1')\n",
    "df_3 = pd.read_excel(r'C:\\Users\\vanminh1\\OneDrive - Intel Corporation\\Desktop\\Cody\\Minhne\\Code Python\\Data_Excel\\Exercise Files\\shift_3.xlsx')\n",
    "\n",
    "df_all = pd.concat([df_1, df_2, df_3], sort = False)\n",
    "print(df_all.loc[50])\n",
    "print(df_all.groupby(['Shift']).mean()['Units Sold'])\n",
    "\n",
    "to_excel = df_all.to_excel(r'C:\\Users\\vanminh1\\OneDrive - Intel Corporation\\Desktop\\Cody\\Minhne\\Code Python\\Data_Excel\\Exercise Files\\File_Create\\all_shift.xlsx', index = None)\n",
    "\n",
    "wb = load_workbook(r'C:\\Users\\vanminh1\\OneDrive - Intel Corporation\\Desktop\\Cody\\Minhne\\Code Python\\Data_Excel\\Exercise Files\\File_Create\\all_shift.xlsx')\n",
    "ws = wb.active\n",
    "\n",
    "total_col = ws['G1']\n",
    "total_col.font = Font(bold = True)\n",
    "total_col.value = 'Total'\n",
    "\n",
    "e_col, f_col = ['E', 'F']\n",
    "for row in range(2,300):\n",
    "    result_cell = 'G{}'.format(row)\n",
    "    e_value = ws[e_col + str(row)].value\n",
    "    f_value = ws[f_col + str(row)].value\n",
    "    ws[result_cell] = e_value * f_value\n",
    "\n",
    "wb.save(r'C:\\Users\\vanminh1\\OneDrive - Intel Corporation\\Desktop\\Cody\\Minhne\\Code Python\\Data_Excel\\Exercise Files\\File_Create\\totaled.xlsx')"
   ]
  },
  {
   "cell_type": "code",
   "execution_count": 66,
   "metadata": {},
   "outputs": [
    {
     "name": "stderr",
     "output_type": "stream",
     "text": [
      "<ipython-input-66-4a6ca6f711c6>:10: SettingWithCopyWarning: \n",
      "A value is trying to be set on a copy of a slice from a DataFrame.\n",
      "Try using .loc[row_indexer,col_indexer] = value instead\n",
      "\n",
      "See the caveats in the documentation: https://pandas.pydata.org/pandas-docs/stable/user_guide/indexing.html#returning-a-view-versus-a-copy\n",
      "  df1['Total'] = df1['Cost per'] * df1['Units Sold']\n"
     ]
    }
   ],
   "source": [
    "#Convert data\n",
    "import pandas as pd\n",
    "from openpyxl import load_workbook\n",
    "from openpyxl.utils.dataframe import dataframe_to_rows\n",
    "\n",
    "wb = load_workbook(r'C:\\Users\\vanminh1\\OneDrive - Intel Corporation\\Desktop\\Cody\\Minhne\\Code Python\\Data_Excel\\Exercise Files\\regions.xlsx')\n",
    "ws = wb.active\n",
    "df = pd.read_excel(r'C:\\Users\\vanminh1\\OneDrive - Intel Corporation\\Desktop\\Cody\\Minhne\\Code Python\\Data_Excel\\Exercise Files\\all_shifts.xlsx')\n",
    "df1 = df[['Sales Rep', 'Cost per', 'Units Sold']]\n",
    "df1['Total'] = df1['Cost per'] * df1['Units Sold']\n",
    "\n",
    "rows = dataframe_to_rows(df1, index = False)\n",
    "for r_idx, row in enumerate(rows,1):\n",
    "    for c_idx, col in enumerate(row,6):\n",
    "        ws.cell(row = r_idx, column = c_idx, value = col)\n",
    "\n",
    "wb.save(r'C:\\Users\\vanminh1\\OneDrive - Intel Corporation\\Desktop\\Cody\\Minhne\\Code Python\\Data_Excel\\Exercise Files\\File_Create\\combined.xlsx')"
   ]
  },
  {
   "cell_type": "code",
   "execution_count": 81,
   "metadata": {},
   "outputs": [],
   "source": [
    "#Pars large spreadsheets\n",
    "import pandas as pd\n",
    "import numpy as np\n",
    "from openpyxl.utils.dataframe import dataframe_to_rows\n",
    "from openpyxl import load_workbook\n",
    "\n",
    "wb = load_workbook(r'C:\\Users\\vanminh1\\OneDrive - Intel Corporation\\Desktop\\Cody\\Minhne\\Code Python\\Data_Excel\\Exercise Files\\template.xlsx')\n",
    "ws = wb.active\n",
    "\n",
    "df = pd.read_csv(r'C:\\Users\\vanminh1\\OneDrive - Intel Corporation\\Desktop\\Cody\\Minhne\\Code Python\\Data_Excel\\Exercise Files\\crime.csv')\n",
    "df1 = df[df['OFFENSE_CODE_GROUP'] == 'Counterfeiting']\n",
    "df1 = df1.replace(np.nan, 'N/A', regex = True)\n",
    "\n",
    "total_crimes = len(df.index)\n",
    "counterfeit = len(df1.index)\n",
    "perc_crimes = (counterfeit / total_crimes) * 100\n",
    "perc_crimes = round(perc_crimes, 2)\n",
    "\n",
    "ws['O8'].value = total_crimes\n",
    "ws['P8'].value = counterfeit\n",
    "ws['Q8'].value = perc_crimes\n",
    "\n",
    "df1['Count'] = 1\n",
    "df2 = df1.groupby(['DISTRICT', 'YEAR']).count()['Count'].unstack(level = 0)\n",
    "df2.drop(columns = 'N/A', inplace = True)\n",
    "\n",
    "row =  dataframe_to_rows(df2)\n",
    "for r_idx, row in enumerate(rows, 8):\n",
    "    for c_idx, value in enumerate(row, 1):\n",
    "        ws.cell(row = r_idx, column = c_idx, value = value)\n",
    "\n",
    "wb.save(r'C:\\Users\\vanminh1\\OneDrive - Intel Corporation\\Desktop\\Cody\\Minhne\\Code Python\\Data_Excel\\Exercise Files\\File_Create\\crime_report.xlsx')\n",
    "    "
   ]
  },
  {
   "cell_type": "code",
   "execution_count": 87,
   "metadata": {},
   "outputs": [],
   "source": [
    "from openpyxl import load_workbook\n",
    "from openpyxl.chart import BarChart, PieChart, Series, Reference\n",
    "\n",
    "wb = load_workbook(r'C:\\Users\\vanminh1\\OneDrive - Intel Corporation\\Desktop\\Cody\\Minhne\\Code Python\\Data_Excel\\Exercise Files\\crime_report.xlsx')\n",
    "ws = wb.active\n",
    "\n",
    "chart = BarChart()\n",
    "data = Reference(ws, min_row = 8, min_col = 1, max_col = 13, max_row = 13)\n",
    "labels = Reference(ws, min_row = 8, min_col = 2, max_row = 8, max_col = 13)\n",
    "chart.add_data(data, titles_from_data = True)\n",
    "chart.set_categories(labels)\n",
    "chart.title = 'Counterfeit Crimes by District'\n",
    "chart.height = 4.56\n",
    "chart.width = 20.3\n",
    "ws.add_chart(chart, 'B14')\n",
    "\n",
    "chart2 = PieChart()\n",
    "data = Reference(ws, min_col = 15, max_col = 15, min_row = 8, max_row = 8)\n",
    "labels = Reference(ws, min_col = 15, max_col = 15, min_row = 7, max_row = 7)\n",
    "chart2.add_data(data, from_rows = True)\n",
    "chart2.set_categories(labels)\n",
    "chart.title = '% Counterfeit Crimes'\n",
    "chart2.height = 4.56\n",
    "chart2.width = 8.45\n",
    "ws.add_chart(chart2, 'N14')\n",
    "wb.save(r'C:\\Users\\vanminh1\\OneDrive - Intel Corporation\\Desktop\\Cody\\Minhne\\Code Python\\Data_Excel\\Exercise Files\\File_Create\\lines.xlsx')"
   ]
  },
  {
   "cell_type": "code",
   "execution_count": null,
   "metadata": {},
   "outputs": [],
   "source": []
  }
 ],
 "metadata": {
  "kernelspec": {
   "display_name": "Python 3",
   "language": "python",
   "name": "python3"
  },
  "language_info": {
   "codemirror_mode": {
    "name": "ipython",
    "version": 3
   },
   "file_extension": ".py",
   "mimetype": "text/x-python",
   "name": "python",
   "nbconvert_exporter": "python",
   "pygments_lexer": "ipython3",
   "version": "3.8.1"
  }
 },
 "nbformat": 4,
 "nbformat_minor": 4
}
